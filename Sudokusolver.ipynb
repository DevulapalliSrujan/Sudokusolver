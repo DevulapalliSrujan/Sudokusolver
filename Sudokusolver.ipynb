{
 "cells": [
  {
   "cell_type": "code",
   "execution_count": 3,
   "id": "9f2d0ec2-17d3-4b9c-aba2-a76937dce8af",
   "metadata": {},
   "outputs": [
    {
     "name": "stdout",
     "output_type": "stream",
     "text": [
      "Enter your Sudoku puzzle row by row (use 0 for empty spaces):\n"
     ]
    },
    {
     "name": "stdin",
     "output_type": "stream",
     "text": [
      "Row 1:  5 3 0 0 7 0 0 0 0 \n",
      "Row 2:  6 0 0 1 9 5 0 0 0 \n",
      "Row 3:  0 9 8 0 0 0 0 6 0 \n",
      "Row 4:  8 0 0 0 6 0 0 0 3 \n",
      "Row 5:  4 0 0 8 0 3 0 0 1 \n",
      "Row 6:  7 0 0 0 2 0 0 0 6 \n",
      "Row 7:  0 6 0 0 0 0 2 8 0\n",
      "Row 8:  0 0 0 4 1 9 0 0 5 \n",
      "Row 9:  0 0 0 0 8 0 0 7 9\n"
     ]
    },
    {
     "name": "stdout",
     "output_type": "stream",
     "text": [
      "\n",
      "Original Sudoku Puzzle:\n",
      "5 3 0 0 7 0 0 0 0\n",
      "6 0 0 1 9 5 0 0 0\n",
      "0 9 8 0 0 0 0 6 0\n",
      "---------------------\n",
      "8 0 0 0 6 0 0 0 3\n",
      "4 0 0 8 0 3 0 0 1\n",
      "7 0 0 0 2 0 0 0 6\n",
      "---------------------\n",
      "0 6 0 0 0 0 2 8 0\n",
      "0 0 0 4 1 9 0 0 5\n",
      "0 0 0 0 8 0 0 7 9\n",
      "\n",
      "Solved Sudoku:\n",
      "5 3 4 6 7 8 9 1 2\n",
      "6 7 2 1 9 5 3 4 8\n",
      "1 9 8 3 4 2 5 6 7\n",
      "---------------------\n",
      "8 5 9 7 6 1 4 2 3\n",
      "4 2 6 8 5 3 7 9 1\n",
      "7 1 3 9 2 4 8 5 6\n",
      "---------------------\n",
      "9 6 1 5 3 7 2 8 4\n",
      "2 8 7 4 1 9 6 3 5\n",
      "3 4 5 2 8 6 1 7 9\n"
     ]
    }
   ],
   "source": [
    "def get_user_input():\n",
    "    print(\"Enter your Sudoku puzzle row by row (use 0 for empty spaces):\")\n",
    "    board = []\n",
    "    for i in range(9):\n",
    "        while True:\n",
    "            try:\n",
    "                row = list(map(int, input(f\"Row {i+1}: \").strip().split()))\n",
    "                if len(row) == 9 and all(0 <= num <= 9 for num in row):\n",
    "                    board.append(row)\n",
    "                    break\n",
    "                else:\n",
    "                    print(\"Invalid input! Please enter exactly 9 numbers between 0-9.\")\n",
    "            except ValueError:\n",
    "                print(\"Invalid input! Please enter numbers only.\")\n",
    "    return board\n",
    "def is_valid(board, row, col, num):\n",
    "    for i in range(9):\n",
    "        if board[row][i] == num or board[i][col] == num:\n",
    "            return False    \n",
    "    start_row, start_col = 3 * (row // 3), 3 * (col // 3)\n",
    "    for i in range(start_row, start_row + 3):\n",
    "        for j in range(start_col, start_col + 3):\n",
    "            if board[i][j] == num:\n",
    "                return False\n",
    "    return True\n",
    "def solve_sudoku(board):\n",
    "    for row in range(9):\n",
    "        for col in range(9):\n",
    "            if board[row][col] == 0:\n",
    "                for num in range(1, 10):\n",
    "                    if is_valid(board, row, col, num):\n",
    "                        board[row][col] = num\n",
    "                        if solve_sudoku(board):\n",
    "                            return True\n",
    "                        board[row][col] = 0\n",
    "                return False\n",
    "    return True\n",
    "def print_board(board):\n",
    "    for i in range(9):\n",
    "        print(\" \".join(str(num) for num in board[i]))\n",
    "        if i % 3 == 2 and i != 8:\n",
    "            print(\"-\" * 21)\n",
    "sudoku_board = get_user_input()\n",
    "print(\"\\nOriginal Sudoku Puzzle:\")\n",
    "print_board(sudoku_board)\n",
    "\n",
    "if solve_sudoku(sudoku_board):\n",
    "    print(\"\\nSolved Sudoku:\")\n",
    "    print_board(sudoku_board)\n",
    "else:\n",
    "    print(\"\\nNo solution exists.\")"
   ]
  }
 ],
 "metadata": {
  "kernelspec": {
   "display_name": "Python 3 (ipykernel)",
   "language": "python",
   "name": "python3"
  },
  "language_info": {
   "codemirror_mode": {
    "name": "ipython",
    "version": 3
   },
   "file_extension": ".py",
   "mimetype": "text/x-python",
   "name": "python",
   "nbconvert_exporter": "python",
   "pygments_lexer": "ipython3",
   "version": "3.12.7"
  }
 },
 "nbformat": 4,
 "nbformat_minor": 5
}
